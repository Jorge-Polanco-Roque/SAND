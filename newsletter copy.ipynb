{
 "cells": [
  {
   "cell_type": "markdown",
   "metadata": {},
   "source": [
    "# Newsletter - SandPalace\n",
    "**Date**: 030924"
   ]
  },
  {
   "cell_type": "code",
   "execution_count": 23,
   "metadata": {},
   "outputs": [],
   "source": [
    "# GNEWS API\n",
    "api_key_serpapi = \"XXXXXXXXXXXXXXXXXXXXXXXXXXXXXXXXXXXXXXXXXXXXXXXXXXXXXXXXXXXXXXXX\""
   ]
  },
  {
   "cell_type": "code",
   "execution_count": 24,
   "metadata": {},
   "outputs": [],
   "source": [
    "# Import the GoogleSearch class from the gnews package\n",
    "import serpapi\n",
    "\n",
    "params = {\n",
    "  \"engine\": \"google_news\",\n",
    "  \"q\": \"Blockchain\",\n",
    "  \"api_key\": api_key_serpapi\n",
    "}\n",
    "\n",
    "#search = GoogleSearch(params)\n",
    "results = serpapi.search(params)\n",
    "news_results = results[\"news_results\"]"
   ]
  },
  {
   "cell_type": "code",
   "execution_count": 25,
   "metadata": {},
   "outputs": [],
   "source": [
    "# Extract all the URLs from the news results\n",
    "serpapi_urls = [result[\"link\"] for result in news_results]"
   ]
  },
  {
   "cell_type": "code",
   "execution_count": 26,
   "metadata": {},
   "outputs": [
    {
     "name": "stdout",
     "output_type": "stream",
     "text": [
      "Extracción completada. Se pudo extraer información de 18 de 20 URLs.\n",
      "El contenido extraído se ha guardado en 'scraped_content.txt'.\n"
     ]
    }
   ],
   "source": [
    "# Scrapping\n",
    "import requests\n",
    "from bs4 import BeautifulSoup\n",
    "\n",
    "# Función para extraer texto de una sola URL\n",
    "def scrape_text_from_url(url):\n",
    "    try:\n",
    "        response = requests.get(url, timeout=10)  # Intentar acceder a la URL con un tiempo de espera\n",
    "        response.raise_for_status()  # Lanza un error si la solicitud no fue exitosa (status code != 200)\n",
    "        \n",
    "        soup = BeautifulSoup(response.text, 'html.parser')\n",
    "        paragraphs = soup.find_all('p')  # Encuentra todos los párrafos en el contenido HTML\n",
    "        \n",
    "        # Extraer texto de todos los párrafos y unirlos en un solo bloque de texto\n",
    "        content = \"\\n\".join([para.get_text() for para in paragraphs])\n",
    "        return content\n",
    "\n",
    "    except (requests.HTTPError, requests.ConnectionError, requests.Timeout, requests.RequestException):\n",
    "        # Captura cualquier excepción relacionada con la solicitud HTTP y omite la URL\n",
    "        return None\n",
    "\n",
    "# Función para procesar una lista de URLs\n",
    "def scrape_multiple_urls(urls):\n",
    "    successful_scrapes = 0\n",
    "    all_texts = []  # Lista para almacenar todos los textos extraídos\n",
    "    \n",
    "    for url in urls:\n",
    "        content = scrape_text_from_url(url)\n",
    "        \n",
    "        if content:  # Si se pudo extraer contenido, se cuenta como exitoso\n",
    "            successful_scrapes += 1\n",
    "            all_texts.append(content)  # Almacenar el contenido extraído\n",
    "            \n",
    "    return successful_scrapes, \"\\n\\n\".join(all_texts)  # Devuelve el conteo y todo el texto unido\n",
    "\n",
    "# Función principal\n",
    "def main():\n",
    "    \n",
    "    # Obtener el conteo de extracciones exitosas y todo el texto combinado\n",
    "    successful_scrapes, combined_text = scrape_multiple_urls(serpapi_urls[50:70])\n",
    "    \n",
    "    # Guardar el texto en un archivo .txt\n",
    "    output_filename = 'scraped_content.txt'\n",
    "    with open(output_filename, 'w', encoding='utf-8') as file:\n",
    "        file.write(combined_text)\n",
    "    \n",
    "    print(f\"Extracción completada. Se pudo extraer información de {successful_scrapes} de {len(serpapi_urls[50:70])} URLs.\")\n",
    "    print(f\"El contenido extraído se ha guardado en '{output_filename}'.\")\n",
    "\n",
    "if __name__ == '__main__':\n",
    "    main()\n"
   ]
  },
  {
   "cell_type": "code",
   "execution_count": 27,
   "metadata": {},
   "outputs": [],
   "source": [
    "# API OpenAI\n",
    "api_openai = \"XXXXXXXXXXXXXXXXXXXXXXXXXXXXXXXXXXXXXXXXXXXXXXXXXXXXXXXXXXXXXXXX\""
   ]
  },
  {
   "cell_type": "code",
   "execution_count": 34,
   "metadata": {},
   "outputs": [],
   "source": [
    "# Open AI API\n",
    "from openai import OpenAI\n",
    "\n",
    "# Leer el archivo de entrada\n",
    "with open('scraped_content.txt', 'r') as file:\n",
    "    user_input = file.read().strip()\n",
    "\n",
    "# Inicializar el cliente de OpenAI\n",
    "client = OpenAI(api_key=api_openai)\n",
    "\n",
    "# Generar la respuesta\n",
    "completion = client.chat.completions.create(\n",
    "    model=\"gpt-4o\",\n",
    "    messages=[\n",
    "        {\"role\": \"user\", \"content\": \"Create a Newsletter using the following input:\"+user_input+\n",
    "                                    \"Metion and develop at leat 5 highlights\"+\"Be very clear, explain briefly the news.\"+\n",
    "                                    \"The style should be sarcastic. Minimalist style, use emojis, avoid using too much bullets.\"+\n",
    "                                    \"Creative Title.\"+\"Alternative tone.\"+\"Don't use straight lines as style.\"+\n",
    "                                    \"VERY IMPORTANT: ALL THE INFORMATION SHOULD BE TRUE, ACCURATE, AND RELATED TO BLOCKCHAIN AND WEB3.0.\"\n",
    "                                    },\n",
    "    ]\n",
    ")\n",
    "\n",
    "# Extraer la respuesta del modelo\n",
    "response_content = completion.choices[0].message.content.strip()\n",
    "\n",
    "# Imprimir la respuesta\n",
    "#print(f\"```markdown\\n{response_content}\\n```\")\n",
    "\n",
    "# Guardar la respuesta en un archivo de salida\n",
    "with open('output.txt', 'w') as file:\n",
    "    file.write(response_content)\n"
   ]
  },
  {
   "cell_type": "code",
   "execution_count": 35,
   "metadata": {},
   "outputs": [
    {
     "data": {
      "text/markdown": [
       "**📰 Crypto Chronicles: Web3 Wonders and Basel Committee Angst**  \n",
       "\n",
       "**Hey Crypto Enthusiasts,**\n",
       "\n",
       "We've got a spicy mix of blockchain drama, groundbreaking tech, and ironic twists to keep you glued. Buckle up—this ride's gonna be bumpy! \n",
       "\n",
       "**1. 🏦 Basel Committee’s Spicy Blockchain Takeaway**\n",
       "Yesterday, the Basel Committee on Banking Supervision (BCBS)—a group that’s about as fun as it sounds—kicked the hive yet again. They dropped a paper airing their grievances against permissionless blockchains. Banks can expect to burn more cash if they even think about touching these with a 10-foot pole. It's the hard fork of banking regulations! But wait, if you’re in the camp of permissioned blockchains, you’re all set. Of course, the opinion couldn't solely belong to the venerable committee—authorship credit is, as always, a mystery.\n",
       "\n",
       "**2. 🎮 SuiPlay0X1: The Gaming Console We Didn't Know We Wanted**\n",
       "SuiPlay0X1 just strutted onto the scene and snatched up all gamer hearts at just $599. This Web3 handheld mixes Sui games with Steam titles. Imagine zipping through your digital asset trades while throwing fireballs in *Elden Ring*. Features? Oh, just a Ryzen 7 CPU, 7-inch screen, and enough input options to pilot a spaceship. Preorders are live, so smash that ~Buy Now~ button.\n",
       "\n",
       "**3. 🛠️ WOO Partners with Cocos Studio: Blockchain Gaming Reimagined**\n",
       "In a match made in crypto heaven, WOO Innovation Hub cozied up with Cocos Studio, promising to sprinkle some blockchain magic across the gaming world. Expect your fave 2D and 3D games to get that Web3 glow-up. Plus, with Cocos Engine’s 64% dominance in the global Web2 mini-games market, gaming’s never looked so techy.\n",
       "\n",
       "**4. 🪙 TRX and Mpeppe: New Crypto Love Affair**\n",
       "Crypto whales—the guys with the fat wallets—are ditching Tron (TRX) for the new meme king Mpeppe (MPEPE). Why? Apparently, Mpeppe blends blocks with sports fandom and meme culture—a concoction irresistible to both Bitcoin maximalists and sports jocks alike. Keep an eye on this pair; it might be the next big hit, or just another pump-and-dump.\n",
       "\n",
       "**5. 📉 Bitfinex Alpha’s Prediction: Bitcoin and the Federal Roller Coaster**\n",
       "Hold onto your bitcoins, folks. Fed interest rate decisions loom like a dark cloud, and Bitfinex Alpha predicts chunky swings in BTC's price. Whether it’s a 25 basis point sniffle or a 50 basis point sneeze, expect wild volatility. Traders are de-risking hard.\n",
       "\n",
       "**6. Tether: \"New Blockchain? Meh, Pass.\"**\n",
       "In a plot twist more surprising than a daytime soap opera, Tether’s CEO just said, \"No thanks\" to launching their blockchain. With five existing chains clutching 86% of the DeFi value, why reinvent the block? Ardoino’s philosophy: \"Blockchains are just glorified transport layers.\" 🎤 Drop.\n",
       "\n",
       "**And in other news, TON blockchain took a nap twice within 36 hours thanks to a memecoin surge. Validators lost consensus—classic case of 'too many cooks.'\n",
       "\n",
       "🔥 That's the wrap, folks. Follow us on the socials for your daily dose of blockchain brilliance or pop into our inbox at info@blockchain.news. \n",
       "\n",
       "Stay curious. Stay skeptical. \n",
       "\n",
       "— The crypto cynics at Blockchain.news\n",
       "\n",
       "**Disclaimer:**\n",
       "Blockchain.news—a minefield of useful information that might or might not lead to your financial ruin. Proceed with caution, do your homework, and never, ever blame us for your poor decisions.  \n",
       "\n",
       "Welcome to your premier source for the latest in AI, cryptocurrency, blockchain, and AI search tools—driving tomorrow's innovations today.\n",
       "\n",
       "**Follow @LedgerInsights**  \n",
       "**Copyright © 2018 - 2024 Ledger Insights Ltd.**"
      ],
      "text/plain": [
       "<IPython.core.display.Markdown object>"
      ]
     },
     "metadata": {},
     "output_type": "display_data"
    }
   ],
   "source": [
    "# Markdown\n",
    "from IPython.display import Markdown, display\n",
    "\n",
    "def print_as_markdown(content: str) -> None:\n",
    "    \"\"\"\n",
    "    Prints the given string content as a Markdown code block.\n",
    "    \n",
    "    Parameters:\n",
    "    content (str): The string content to print as Markdown.\n",
    "    \"\"\"\n",
    "    display(Markdown(content))\n",
    "\n",
    "print_as_markdown(response_content)\n"
   ]
  },
  {
   "cell_type": "code",
   "execution_count": null,
   "metadata": {},
   "outputs": [],
   "source": []
  },
  {
   "cell_type": "code",
   "execution_count": null,
   "metadata": {},
   "outputs": [],
   "source": []
  },
  {
   "cell_type": "code",
   "execution_count": null,
   "metadata": {},
   "outputs": [],
   "source": []
  }
 ],
 "metadata": {
  "kernelspec": {
   "display_name": "myenv",
   "language": "python",
   "name": "python3"
  },
  "language_info": {
   "codemirror_mode": {
    "name": "ipython",
    "version": 3
   },
   "file_extension": ".py",
   "mimetype": "text/x-python",
   "name": "python",
   "nbconvert_exporter": "python",
   "pygments_lexer": "ipython3",
   "version": "3.11.9"
  }
 },
 "nbformat": 4,
 "nbformat_minor": 2
}
