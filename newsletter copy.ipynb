{
 "cells": [
  {
   "cell_type": "markdown",
   "metadata": {},
   "source": [
    "# Newsletter - SandPalace\n",
    "**Date**: 030924"
   ]
  },
  {
   "cell_type": "code",
   "execution_count": 1,
   "metadata": {},
   "outputs": [],
   "source": [
    "# GNEWS API\n",
    "api_key_serpapi = \"XXXXXXXXXXXXXXXXXXXXXXXXXXXXXXXXXXXXXXXXXXXXXXXXXXXXXXXXXXXXXXXX\""
   ]
  },
  {
   "cell_type": "code",
   "execution_count": 2,
   "metadata": {},
   "outputs": [],
   "source": [
    "# Import the GoogleSearch class from the gnews package\n",
    "import serpapi\n",
    "\n",
    "params = {\n",
    "  \"engine\": \"google_news\",\n",
    "  \"q\": \"Blockchain\",\n",
    "  \"api_key\": api_key_serpapi\n",
    "}\n",
    "\n",
    "#search = GoogleSearch(params)\n",
    "results = serpapi.search(params)\n",
    "news_results = results[\"news_results\"]"
   ]
  },
  {
   "cell_type": "code",
   "execution_count": 3,
   "metadata": {},
   "outputs": [],
   "source": [
    "# Extract all the URLs from the news results\n",
    "serpapi_urls = [result[\"link\"] for result in news_results]"
   ]
  },
  {
   "cell_type": "code",
   "execution_count": 7,
   "metadata": {},
   "outputs": [
    {
     "name": "stdout",
     "output_type": "stream",
     "text": [
      "Extracción completada. Se pudo extraer información de 18 de 30 URLs.\n",
      "El contenido extraído se ha guardado en 'scraped_content.txt'.\n"
     ]
    }
   ],
   "source": [
    "# Scrapping\n",
    "import requests\n",
    "from bs4 import BeautifulSoup\n",
    "\n",
    "# Función para extraer texto de una sola URL\n",
    "def scrape_text_from_url(url):\n",
    "    try:\n",
    "        response = requests.get(url, timeout=10)  # Intentar acceder a la URL con un tiempo de espera\n",
    "        response.raise_for_status()  # Lanza un error si la solicitud no fue exitosa (status code != 200)\n",
    "        \n",
    "        soup = BeautifulSoup(response.text, 'html.parser')\n",
    "        paragraphs = soup.find_all('p')  # Encuentra todos los párrafos en el contenido HTML\n",
    "        \n",
    "        # Extraer texto de todos los párrafos y unirlos en un solo bloque de texto\n",
    "        content = \"\\n\".join([para.get_text() for para in paragraphs])\n",
    "        return content\n",
    "\n",
    "    except (requests.HTTPError, requests.ConnectionError, requests.Timeout, requests.RequestException):\n",
    "        # Captura cualquier excepción relacionada con la solicitud HTTP y omite la URL\n",
    "        return None\n",
    "\n",
    "# Función para procesar una lista de URLs\n",
    "def scrape_multiple_urls(urls):\n",
    "    successful_scrapes = 0\n",
    "    all_texts = []  # Lista para almacenar todos los textos extraídos\n",
    "    \n",
    "    for url in urls:\n",
    "        content = scrape_text_from_url(url)\n",
    "        \n",
    "        if content:  # Si se pudo extraer contenido, se cuenta como exitoso\n",
    "            successful_scrapes += 1\n",
    "            all_texts.append(content)  # Almacenar el contenido extraído\n",
    "            \n",
    "    return successful_scrapes, \"\\n\\n\".join(all_texts)  # Devuelve el conteo y todo el texto unido\n",
    "\n",
    "# Función principal\n",
    "def main():\n",
    "    \n",
    "    # Obtener el conteo de extracciones exitosas y todo el texto combinado\n",
    "    successful_scrapes, combined_text = scrape_multiple_urls(serpapi_urls[:30])\n",
    "    \n",
    "    # Guardar el texto en un archivo .txt\n",
    "    output_filename = 'scraped_content.txt'\n",
    "    with open(output_filename, 'w', encoding='utf-8') as file:\n",
    "        file.write(combined_text)\n",
    "    \n",
    "    print(f\"Extracción completada. Se pudo extraer información de {successful_scrapes} de {len(serpapi_urls[:30])} URLs.\")\n",
    "    print(f\"El contenido extraído se ha guardado en '{output_filename}'.\")\n",
    "\n",
    "if __name__ == '__main__':\n",
    "    main()\n"
   ]
  },
  {
   "cell_type": "code",
   "execution_count": 8,
   "metadata": {},
   "outputs": [],
   "source": [
    "# API OpenAI\n",
    "api_openai = \"XXXXXXXXXXXXXXXXXXXXXXXXXXXXXXXXXXXXXXXXXXXXXXXXXXXXXXXXXXXXXXXX\""
   ]
  },
  {
   "cell_type": "code",
   "execution_count": 9,
   "metadata": {},
   "outputs": [],
   "source": [
    "# Open AI API\n",
    "from openai import OpenAI\n",
    "\n",
    "# Leer el archivo de entrada\n",
    "with open('scraped_content.txt', 'r') as file:\n",
    "    user_input = file.read().strip()\n",
    "\n",
    "# Inicializar el cliente de OpenAI\n",
    "client = OpenAI(api_key=api_openai)\n",
    "\n",
    "# Generar la respuesta\n",
    "completion = client.chat.completions.create(\n",
    "    model=\"gpt-4o\",\n",
    "    messages=[\n",
    "        {\"role\": \"user\", \"content\": \"Create a Newsletter using the following input:\"+user_input+\n",
    "                                    \"State the note, then a sarcastic joke.\"+\n",
    "                                    \"The style should be sarcastic, dark humor, edgy and funny. Minimalist style, use emojis, avoid using too much bullets.\"+\n",
    "                                    \"Very readable. Talk about the 5 most important topics related to Blockchain.\"+\n",
    "                                    \"Creative Title.\"+\"Alternative tone.\"+\"Don't use straight lines as style.\"+\n",
    "                                    \"VERY IMPORTANT: ALL THE INFORMATION SHOULD BE TRUE, ACCURATE, AND RELATED TO BLOCKCHAIN AND WEB3.0.\"\n",
    "                                    },\n",
    "    ]\n",
    ")\n",
    "\n",
    "# Extraer la respuesta del modelo\n",
    "response_content = completion.choices[0].message.content.strip()\n",
    "\n",
    "# Imprimir la respuesta\n",
    "#print(f\"```markdown\\n{response_content}\\n```\")\n",
    "\n",
    "# Guardar la respuesta en un archivo de salida\n",
    "with open('output.txt', 'w') as file:\n",
    "    file.write(response_content)\n"
   ]
  },
  {
   "cell_type": "code",
   "execution_count": 10,
   "metadata": {},
   "outputs": [
    {
     "data": {
      "text/markdown": [
       "# Blockchain Breakthroughs ✨: Taking the Plunge Into the Digital Abyss\n",
       "\n",
       "## Blockchain Nuptials: Say \"I Do\" to Hacked Matrimony 🕶️\n",
       "\n",
       "Couples are now saying their vows amidst zeros and ones. How romantic! Blockchain tech is bringing the heavy artillery into the wedding game, securing those precious moments forever on a digital ledger. Traditional bands? Nah, they're exchanging digital tokens. And while these blockchain unions are \"symbolic,\" they offer a lifeline for couples sidestepping legal or societal hoops. Bonus: Even if the love dies, the blockchain won't forget. Bittersweet!\n",
       "\n",
       "## Crypto Weddings Decoded: Vows in the World of Tomorrow 💍\n",
       "\n",
       "Wedding bells aren't just ringing; they're pinging. Couples are recording their marriage commitments on blockchain's tamper-proof, transparent ledgers. Amidst terms like \"smart contracts\" and \"NFT vows,\" lovebirds can ditch paper for pixels. Why settle for plain old gold bands when you can exchange Ethereum-based symbols of eternal love? Hmmm... until transaction fees do us part, maybe?\n",
       "\n",
       "## NFT Nuptials: Marriage Certificate, But Make It Digital 🖼️\n",
       "\n",
       "Take your wedding a notch higher—or should it be deeper into the void? Convert your marriage certificate into an NFT. Yes, that's right. Minting those vows into tokens available for everyone to marvel at, but forever yours, etched on Ethereum. Personalized vows, digital rings, and unique artwork to boot. Because nothing says \"forever\" like eternity in a blockchain.\n",
       "\n",
       "## Marriage 2.0: Smart Contracts and Digital Priests 💔\n",
       "\n",
       "Forget traditional vows! A computer program called a smart contract could seal your fate. It executes terms automatically—how very \"Terminator.\" Add a digital priest to the mix (blessing NFTs), it's the best of both worlds. Welcome to matrimony, Blockchain-edition. Get married with all the flair of a hacker conference, minus the legal complications!\n",
       "\n",
       "## The Rise of Blockchain Wedlock: Platform Carnival 🎡\n",
       "\n",
       "Ever heard of \"Marriage-Chain\" on GitHub? Or Closeup proposing marriages via digital avatars and NFTs? From 2014’s QR code wedding to Ethereum-based tokens exchanged by Coinbase employees in 2021, the blockchain wedding landscape is brimming with geeky innovation. These platforms even help couples facing real-world obstacles to tie (or untie) the digital knot.\n",
       "\n",
       "## And Now for the Edgy Afterthought 🎤\n",
       "\n",
       "So, put a ring on... wait, let's make that a token. In a world where traditional norms are being toast on a blockchain grill, why keep it simple? Blockchain is here to record not just your transactions, but your love stories. And maybe your inevitable breakups too. How poetic.\n",
       "\n",
       "No emojis for this punchline.\n",
       "\n",
       "---\n",
       "\n",
       "Subscribe to Blockchain Breakthroughs ✨ and dive into the digital abyss each week. Because traditional relationships are SO 2020."
      ],
      "text/plain": [
       "<IPython.core.display.Markdown object>"
      ]
     },
     "metadata": {},
     "output_type": "display_data"
    }
   ],
   "source": [
    "# Markdown\n",
    "from IPython.display import Markdown, display\n",
    "\n",
    "def print_as_markdown(content: str) -> None:\n",
    "    \"\"\"\n",
    "    Prints the given string content as a Markdown code block.\n",
    "    \n",
    "    Parameters:\n",
    "    content (str): The string content to print as Markdown.\n",
    "    \"\"\"\n",
    "    display(Markdown(content))\n",
    "\n",
    "print_as_markdown(response_content)\n"
   ]
  },
  {
   "cell_type": "code",
   "execution_count": null,
   "metadata": {},
   "outputs": [],
   "source": []
  },
  {
   "cell_type": "code",
   "execution_count": null,
   "metadata": {},
   "outputs": [],
   "source": []
  },
  {
   "cell_type": "code",
   "execution_count": null,
   "metadata": {},
   "outputs": [],
   "source": []
  }
 ],
 "metadata": {
  "kernelspec": {
   "display_name": "myenv",
   "language": "python",
   "name": "python3"
  },
  "language_info": {
   "codemirror_mode": {
    "name": "ipython",
    "version": 3
   },
   "file_extension": ".py",
   "mimetype": "text/x-python",
   "name": "python",
   "nbconvert_exporter": "python",
   "pygments_lexer": "ipython3",
   "version": "3.11.9"
  }
 },
 "nbformat": 4,
 "nbformat_minor": 2
}
